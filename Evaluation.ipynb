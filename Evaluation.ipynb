{
 "cells": [
  {
   "cell_type": "code",
   "execution_count": 1,
   "metadata": {},
   "outputs": [
    {
     "name": "stderr",
     "output_type": "stream",
     "text": [
      "WARNING: Logging before flag parsing goes to stderr.\n",
      "W0517 23:29:37.137785 4473705920 __init__.py:56] Some hub symbols are not available because TensorFlow version is less than 1.14\n"
     ]
    },
    {
     "name": "stdout",
     "output_type": "stream",
     "text": [
      "WARNING:tensorflow:From /Users/luukschagen/miniconda3/envs/deeplearning/lib/python3.7/site-packages/tensorflow/python/ops/control_flow_ops.py:3632: colocate_with (from tensorflow.python.framework.ops) is deprecated and will be removed in a future version.\n",
      "Instructions for updating:\n",
      "Colocations handled automatically by placer.\n"
     ]
    },
    {
     "name": "stderr",
     "output_type": "stream",
     "text": [
      "W0517 23:29:38.624239 4473705920 deprecation.py:323] From /Users/luukschagen/miniconda3/envs/deeplearning/lib/python3.7/site-packages/tensorflow/python/ops/control_flow_ops.py:3632: colocate_with (from tensorflow.python.framework.ops) is deprecated and will be removed in a future version.\n",
      "Instructions for updating:\n",
      "Colocations handled automatically by placer.\n"
     ]
    }
   ],
   "source": [
    "from bert_classification_batched import *"
   ]
  },
  {
   "cell_type": "code",
   "execution_count": 3,
   "metadata": {},
   "outputs": [],
   "source": [
    "data = import_data('full_datapickle')"
   ]
  },
  {
   "cell_type": "code",
   "execution_count": 5,
   "metadata": {},
   "outputs": [],
   "source": [
    "data_per_emoji = {emoji: [] for data, emoji in data}"
   ]
  },
  {
   "cell_type": "code",
   "execution_count": 6,
   "metadata": {},
   "outputs": [],
   "source": [
    "for text, emoji in data:\n",
    "    data_per_emoji[emoji].append(text)"
   ]
  },
  {
   "cell_type": "code",
   "execution_count": 7,
   "metadata": {},
   "outputs": [],
   "source": [
    "for key in data_per_emoji:\n",
    "    data_per_emoji[key] = len(data_per_emoji[key])"
   ]
  },
  {
   "cell_type": "code",
   "execution_count": 8,
   "metadata": {},
   "outputs": [
    {
     "name": "stdout",
     "output_type": "stream",
     "text": [
      "{'😍': 27249, '👀': 9716, '❤': 41446, '💯': 11175, '💔': 3642, '😏': 4151, '💕': 13254, '😂': 98452, '😭': 44039, '💙': 8247, '🙏': 14540, '😊': 12997, '😉': 6932, '👍': 11077, '💜': 16558, '😁': 8399, '😒': 4172, '😩': 14749, '😘': 9672, '😑': 1928, '😴': 2459, '😢': 4553, '💀': 8100, '😕': 2004, '😈': 3697, '😪': 2555, '😣': 1200, '😌': 4521, '🙌': 8119, '😖': 659, '♥': 7024, '😡': 3220, '😫': 3314, '😤': 2993, '🎶': 6602, '💪': 6039, '🙈': 2569, '😅': 5402, '😎': 6720, '👊': 2703, '😋': 2790, '👌': 6587, '😜': 2829, '💖': 7319, '😬': 2525, '😳': 4538, '👏': 13277, '🙅': 970, '😞': 1872, '😔': 6851, '😄': 2497, '😓': 1057, '😐': 1858, '💁': 1459, '🎧': 964, '✋': 621, '😠': 691, '🙊': 842, '😷': 630, '🔫': 389}\n"
     ]
    }
   ],
   "source": [
    "print(data_per_emoji)"
   ]
  },
  {
   "cell_type": "code",
   "execution_count": null,
   "metadata": {},
   "outputs": [],
   "source": [
    "with open('batched_otherdata', 'rb') as file:\n",
    "    otherdata = pickle.load(file)\n",
    "    \n",
    "with open('predictions', 'rb') as file:\n",
    "    predictions = pickle.load(file)\n",
    "    \n",
    "x_test = otherdata['xtest']\n",
    "y_test = otherdata['ytest']\n",
    "y_pred = predictions['predictions']"
   ]
  },
  {
   "cell_type": "code",
   "execution_count": null,
   "metadata": {},
   "outputs": [],
   "source": [
    "tokenizer = otherdata['tokenizer']\n",
    "labelmap = otherdata['labelmap']\n",
    "model = build_model()\n",
    "initialize_variables(sess)\n",
    "inverse = {value: key for key, value in labelmap.items()}"
   ]
  },
  {
   "cell_type": "code",
   "execution_count": null,
   "metadata": {},
   "outputs": [],
   "source": [
    "model.load_weights(\"Trained_batched_BERT.h5\")"
   ]
  },
  {
   "cell_type": "code",
   "execution_count": null,
   "metadata": {},
   "outputs": [],
   "source": [
    "y_test_labels = [labelmap[value] for value in y_test]"
   ]
  },
  {
   "cell_type": "code",
   "execution_count": null,
   "metadata": {},
   "outputs": [],
   "source": [
    "def evaluate_k_accuracy(k=5):\n",
    "    acc = tf.keras.metrics.sparse_top_k_categorical_accuracy(y_true=np.array(y_test_labels), y_pred=y_pred, k=k)\n",
    "    return acc.eval(session=sess)"
   ]
  },
  {
   "cell_type": "code",
   "execution_count": null,
   "metadata": {},
   "outputs": [],
   "source": [
    "print(evaluate_k_accuracy(5))\n",
    "print(evaluate_k_accuracy(4))\n",
    "print(evaluate_k_accuracy(3))\n",
    "print(evaluate_k_accuracy(2))\n",
    "print(evaluate_k_accuracy(1))"
   ]
  },
  {
   "cell_type": "code",
   "execution_count": null,
   "metadata": {},
   "outputs": [],
   "source": [
    "def makeprediction(text, k=3):  \n",
    "    top_k_values, top_k_indices = tf.nn.top_k(model.predict(list(tokenize_inputlist([text], tokenizer))), k=k) \n",
    "    indices = top_k_indices.eval(session=sess) \n",
    "    return [inverse[index] for index in list(indices[0])] "
   ]
  },
  {
   "cell_type": "code",
   "execution_count": null,
   "metadata": {},
   "outputs": [],
   "source": [
    "print(makeprediction(\"The plane is on time! Fantastic!\"))\n",
    "print(makeprediction(\"The plane is delayed. Fantastic...\"))"
   ]
  },
  {
   "cell_type": "code",
   "execution_count": 1,
   "metadata": {},
   "outputs": [
    {
     "ename": "NameError",
     "evalue": "name 'tf' is not defined",
     "output_type": "error",
     "traceback": [
      "\u001b[0;31m---------------------------------------------------------------------------\u001b[0m",
      "\u001b[0;31mNameError\u001b[0m                                 Traceback (most recent call last)",
      "\u001b[0;32m<ipython-input-1-ce4a3d71ebb0>\u001b[0m in \u001b[0;36m<module>\u001b[0;34m\u001b[0m\n\u001b[0;32m----> 1\u001b[0;31m \u001b[0mtop_k_values\u001b[0m\u001b[0;34m,\u001b[0m \u001b[0mtop_k_indices\u001b[0m \u001b[0;34m=\u001b[0m \u001b[0mtf\u001b[0m\u001b[0;34m.\u001b[0m\u001b[0mnn\u001b[0m\u001b[0;34m.\u001b[0m\u001b[0mtop_k\u001b[0m\u001b[0;34m(\u001b[0m\u001b[0mmodel\u001b[0m\u001b[0;34m.\u001b[0m\u001b[0mpredict\u001b[0m\u001b[0;34m(\u001b[0m\u001b[0mlist\u001b[0m\u001b[0;34m(\u001b[0m\u001b[0mtokenize_inputlist\u001b[0m\u001b[0;34m(\u001b[0m\u001b[0;34m[\u001b[0m\u001b[0;34m\"The plane is delayed... Fantastic...\"\u001b[0m\u001b[0;34m]\u001b[0m\u001b[0;34m,\u001b[0m \u001b[0mtokenizer\u001b[0m\u001b[0;34m)\u001b[0m\u001b[0;34m)\u001b[0m\u001b[0;34m)\u001b[0m\u001b[0;34m,\u001b[0m \u001b[0mk\u001b[0m\u001b[0;34m=\u001b[0m\u001b[0;36m3\u001b[0m\u001b[0;34m)\u001b[0m\u001b[0;34m\u001b[0m\u001b[0;34m\u001b[0m\u001b[0m\n\u001b[0m",
      "\u001b[0;31mNameError\u001b[0m: name 'tf' is not defined"
     ]
    }
   ],
   "source": [
    "top_k_values, top_k_indices = tf.nn.top_k(model.predict(list(tokenize_inputlist([\"The plane is delayed... Fantastic...\"], tokenizer))), k=3)"
   ]
  },
  {
   "cell_type": "code",
   "execution_count": 3,
   "metadata": {},
   "outputs": [
    {
     "data": {
      "text/plain": [
       "['In',\n",
       " 'Out',\n",
       " '_',\n",
       " '__',\n",
       " '___',\n",
       " '__builtin__',\n",
       " '__builtins__',\n",
       " '__doc__',\n",
       " '__loader__',\n",
       " '__name__',\n",
       " '__package__',\n",
       " '__spec__',\n",
       " '_dh',\n",
       " '_i',\n",
       " '_i1',\n",
       " '_i2',\n",
       " '_i3',\n",
       " '_ih',\n",
       " '_ii',\n",
       " '_iii',\n",
       " '_oh',\n",
       " 'exit',\n",
       " 'get_ipython',\n",
       " 'quit']"
      ]
     },
     "execution_count": 3,
     "metadata": {},
     "output_type": "execute_result"
    }
   ],
   "source": [
    "dir()"
   ]
  },
  {
   "cell_type": "code",
   "execution_count": null,
   "metadata": {},
   "outputs": [],
   "source": []
  }
 ],
 "metadata": {
  "kernelspec": {
   "display_name": "Python 3",
   "language": "python",
   "name": "python3"
  },
  "language_info": {
   "codemirror_mode": {
    "name": "ipython",
    "version": 3
   },
   "file_extension": ".py",
   "mimetype": "text/x-python",
   "name": "python",
   "nbconvert_exporter": "python",
   "pygments_lexer": "ipython3",
   "version": "3.7.3"
  }
 },
 "nbformat": 4,
 "nbformat_minor": 2
}
